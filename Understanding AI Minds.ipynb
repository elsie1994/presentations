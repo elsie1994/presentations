{
 "cells": [
  {
   "cell_type": "markdown",
   "id": "85e6f94b",
   "metadata": {
    "slideshow": {
     "slide_type": "slide"
    }
   },
   "source": [
    "# Understanding AI Minds"
   ]
  },
  {
   "cell_type": "markdown",
   "id": "a759e10e",
   "metadata": {
    "slideshow": {
     "slide_type": "slide"
    }
   },
   "source": [
    "# INTRODUCTION"
   ]
  },
  {
   "cell_type": "markdown",
   "id": "cd2b70d4",
   "metadata": {
    "slideshow": {
     "slide_type": "fragment"
    }
   },
   "source": [
    "We explore different AI types, generative models, Large Language Models (LLMs) like GPT-3, and their functions.\n",
    "\n",
    "\n",
    "This knowledge is essential to understand the capabilities and functionalities behind these advanced AI systems."
   ]
  },
  {
   "cell_type": "markdown",
   "id": "0029d721",
   "metadata": {
    "slideshow": {
     "slide_type": "slide"
    }
   },
   "source": [
    "# Types of AI"
   ]
  },
  {
   "cell_type": "markdown",
   "id": "2e078096",
   "metadata": {
    "slideshow": {
     "slide_type": "fragment"
    }
   },
   "source": [
    "Generative AI: Create outputs like text, images, music, and videos."
   ]
  },
  {
   "cell_type": "markdown",
   "id": "77f36be2",
   "metadata": {
    "slideshow": {
     "slide_type": "fragment"
    }
   },
   "source": [
    "Discriminative AI: Classify or differentiate inputs, such as image classifiers identifying objects."
   ]
  },
  {
   "cell_type": "markdown",
   "id": "12bcf54f",
   "metadata": {
    "slideshow": {
     "slide_type": "slide"
    }
   },
   "source": [
    "# Function of AI"
   ]
  },
  {
   "cell_type": "markdown",
   "id": "72f7e396",
   "metadata": {
    "slideshow": {
     "slide_type": "fragment"
    }
   },
   "source": [
    "AI are mathematical functions instead of a simple function. They are functions with thousands of variables leading to thousands of possible outputs."
   ]
  },
  {
   "cell_type": "markdown",
   "id": "d4b669dd",
   "metadata": {
    "slideshow": {
     "slide_type": "fragment"
    }
   },
   "source": [
    "Generative AI create outputs like text, images, music, while discriminative AIs classify or differentiate inputs.\n"
   ]
  },
  {
   "cell_type": "markdown",
   "id": "21a4b30a",
   "metadata": {
    "slideshow": {
     "slide_type": "slide"
    }
   },
   "source": [
    "They process sentences by breaking them into units called tokens which can be words or subwords. E.g I like as \"I\", \"like\".Each token is then converted into a list of numbers for the AI to process."
   ]
  },
  {
   "cell_type": "markdown",
   "id": "393327e0",
   "metadata": {
    "slideshow": {
     "slide_type": "fragment"
    }
   },
   "source": [
    "The AI generate text by predicting the next token based on the previous ones. E.g I like, the AI might predict eggs. "
   ]
  },
  {
   "cell_type": "markdown",
   "id": "90e4096d",
   "metadata": {
    "slideshow": {
     "slide_type": "fragment"
    }
   },
   "source": [
    "Each new token they generate is influenced by previous tokens."
   ]
  },
  {
   "cell_type": "markdown",
   "id": "cbbfc58d",
   "metadata": {
    "slideshow": {
     "slide_type": "slide"
    }
   },
   "source": [
    "Unlike humans who read from left to right or right to left, AI considers all tokens simulaniously"
   ]
  },
  {
   "cell_type": "markdown",
   "id": "6df789f7",
   "metadata": {
    "slideshow": {
     "slide_type": "slide"
    }
   },
   "source": [
    "# How Large Language Models Work"
   ]
  },
  {
   "cell_type": "markdown",
   "id": "3b6c2617",
   "metadata": {
    "slideshow": {
     "slide_type": "fragment"
    }
   },
   "source": [
    "> LLMs, like GPT-3 and ChatGPT, utilize transformer architectures with numerous artificial neurons.\n",
    "\n",
    "> These models can be understood as mathematical functions with multiple variables leading to diverse outputs."
   ]
  },
  {
   "cell_type": "markdown",
   "id": "bbebd298",
   "metadata": {
    "slideshow": {
     "slide_type": "slide"
    }
   },
   "source": [
    "> LLMs, unlike humans, process all tokens simultaneously.\n",
    "> Terms like \"think,\" \"brain,\" and \"neuron\" are metaphors; LLMs are mathematical models, not biological entities."
   ]
  },
  {
   "cell_type": "markdown",
   "id": "0fcd42ff",
   "metadata": {
    "slideshow": {
     "slide_type": "slide"
    }
   },
   "source": [
    "# Conclusion"
   ]
  },
  {
   "cell_type": "markdown",
   "id": "62db3949",
   "metadata": {
    "slideshow": {
     "slide_type": "fragment"
    }
   },
   "source": [
    "AI minds is a fascinating blend of mathematics, data, and algorithms. We have gone through generative AI landscapes, and looked into the complexities of LLM architectures.\n",
    "Remember, while AI metaphors may simplify understanding, these systems are fundamentally mathematical models, not conscious entities."
   ]
  },
  {
   "cell_type": "markdown",
   "id": "f8c26dfb",
   "metadata": {
    "slideshow": {
     "slide_type": "slide"
    }
   },
   "source": [
    "I am encouraged to continue exploring this captivating topic. Thank you for joining me on this enlightening exploration of AI minds.I will keep my curiosity alive and embrace the boundless possibilities of artificial intelligence."
   ]
  }
 ],
 "metadata": {
  "celltoolbar": "Slideshow",
  "kernelspec": {
   "display_name": "presentations",
   "language": "python",
   "name": "presentations"
  },
  "language_info": {
   "codemirror_mode": {
    "name": "ipython",
    "version": 3
   },
   "file_extension": ".py",
   "mimetype": "text/x-python",
   "name": "python",
   "nbconvert_exporter": "python",
   "pygments_lexer": "ipython3",
   "version": "3.11.4"
  }
 },
 "nbformat": 4,
 "nbformat_minor": 5
}
