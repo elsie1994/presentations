{
 "cells": [
  {
   "cell_type": "markdown",
   "id": "2daa509b",
   "metadata": {},
   "source": [
    "Demostrate fetching data from internet\n",
    "fir"
   ]
  },
  {
   "cell_type": "code",
   "execution_count": 2,
   "id": "bf7eea8e",
   "metadata": {},
   "outputs": [
    {
     "name": "stdout",
     "output_type": "stream",
     "text": [
      "{'userId': 1, 'id': 1, 'title': 'sunt aut facere repellat provident occaecati excepturi optio reprehenderit', 'body': 'quia et suscipit\\nsuscipit recusandae consequuntur expedita et cum\\nreprehenderit molestiae ut ut quas totam\\nnostrum rerum est autem sunt rem eveniet architecto'}\n"
     ]
    }
   ],
   "source": [
    "import requests\n",
    "r = requests.get(\"https://jsonplaceholder.typicode.com/posts/1\")\n",
    "print(r.json())"
   ]
  },
  {
   "cell_type": "markdown",
   "id": "2fa69408",
   "metadata": {},
   "source": [
    "This is a header\n",
    "this is text"
   ]
  },
  {
   "cell_type": "code",
   "execution_count": null,
   "id": "cac5ec67",
   "metadata": {},
   "outputs": [],
   "source": []
  }
 ],
 "metadata": {
  "kernelspec": {
   "display_name": "Python 3 (ipykernel)",
   "language": "python",
   "name": "python3"
  },
  "language_info": {
   "codemirror_mode": {
    "name": "ipython",
    "version": 3
   },
   "file_extension": ".py",
   "mimetype": "text/x-python",
   "name": "python",
   "nbconvert_exporter": "python",
   "pygments_lexer": "ipython3",
   "version": "3.11.4"
  }
 },
 "nbformat": 4,
 "nbformat_minor": 5
}
